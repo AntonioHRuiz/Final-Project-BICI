{
 "cells": [
  {
   "cell_type": "markdown",
   "metadata": {},
   "source": [
    "## Determining the Best City in Pittsburgh!\n",
    "\n",
    "I will be determining which city I think is the best in Pittsburgh by examining police report data and looking at what neighborhoods have the lowest reported crime.\n",
    "\n",
    "![pgh](https://media.giphy.com/media/EBZZxeGUKuO4dfDJyw/giphy.gif)\n"
   ]
  },
  {
   "cell_type": "code",
   "execution_count": 1,
   "metadata": {},
   "outputs": [],
   "source": [
    "import pandas as pd\n",
    "\n",
    "#import csv URL\n",
    "df = pd.read_csv(\"police.csv\")"
   ]
  },
  {
   "cell_type": "markdown",
   "metadata": {},
   "source": [
    "## Why Did I Drop Some Columns?\n",
    "There were far too many columns with random numbers, and it is much easier to read with less information, therefore I dropped a lot of the random information."
   ]
  },
  {
   "cell_type": "markdown",
   "metadata": {},
   "source": [
    "## Before"
   ]
  },
  {
   "cell_type": "code",
   "execution_count": 2,
   "metadata": {},
   "outputs": [
    {
     "data": {
      "text/html": [
       "<div>\n",
       "<style scoped>\n",
       "    .dataframe tbody tr th:only-of-type {\n",
       "        vertical-align: middle;\n",
       "    }\n",
       "\n",
       "    .dataframe tbody tr th {\n",
       "        vertical-align: top;\n",
       "    }\n",
       "\n",
       "    .dataframe thead th {\n",
       "        text-align: right;\n",
       "    }\n",
       "</style>\n",
       "<table border=\"1\" class=\"dataframe\">\n",
       "  <thead>\n",
       "    <tr style=\"text-align: right;\">\n",
       "      <th></th>\n",
       "      <th>_id</th>\n",
       "      <th>PK</th>\n",
       "      <th>CCR</th>\n",
       "      <th>HIERARCHY</th>\n",
       "      <th>INCIDENTTIME</th>\n",
       "      <th>INCIDENTLOCATION</th>\n",
       "      <th>CLEAREDFLAG</th>\n",
       "      <th>INCIDENTNEIGHBORHOOD</th>\n",
       "      <th>INCIDENTZONE</th>\n",
       "      <th>INCIDENTHIERARCHYDESC</th>\n",
       "      <th>OFFENSES</th>\n",
       "      <th>INCIDENTTRACT</th>\n",
       "      <th>COUNCIL_DISTRICT</th>\n",
       "      <th>PUBLIC_WORKS_DIVISION</th>\n",
       "      <th>X</th>\n",
       "      <th>Y</th>\n",
       "    </tr>\n",
       "  </thead>\n",
       "  <tbody>\n",
       "    <tr>\n",
       "      <th>0</th>\n",
       "      <td>3213265</td>\n",
       "      <td>324785812</td>\n",
       "      <td>23176351</td>\n",
       "      <td>29</td>\n",
       "      <td>2023-11-06T10:00:00</td>\n",
       "      <td>1500 Block Garfield Ave Pittsburgh, PA 15212</td>\n",
       "      <td>N</td>\n",
       "      <td>Central North Side</td>\n",
       "      <td>1</td>\n",
       "      <td>RUNAWAYS - JUVENILE</td>\n",
       "      <td>029 Missing Juvenile</td>\n",
       "      <td>2503.0</td>\n",
       "      <td>6.0</td>\n",
       "      <td>1.0</td>\n",
       "      <td>-80.012202</td>\n",
       "      <td>40.457453</td>\n",
       "    </tr>\n",
       "  </tbody>\n",
       "</table>\n",
       "</div>"
      ],
      "text/plain": [
       "       _id         PK       CCR  HIERARCHY         INCIDENTTIME  \\\n",
       "0  3213265  324785812  23176351         29  2023-11-06T10:00:00   \n",
       "\n",
       "                               INCIDENTLOCATION CLEAREDFLAG  \\\n",
       "0  1500 Block Garfield Ave Pittsburgh, PA 15212           N   \n",
       "\n",
       "  INCIDENTNEIGHBORHOOD INCIDENTZONE INCIDENTHIERARCHYDESC  \\\n",
       "0   Central North Side            1   RUNAWAYS - JUVENILE   \n",
       "\n",
       "               OFFENSES  INCIDENTTRACT  COUNCIL_DISTRICT  \\\n",
       "0  029 Missing Juvenile         2503.0               6.0   \n",
       "\n",
       "   PUBLIC_WORKS_DIVISION          X          Y  \n",
       "0                    1.0 -80.012202  40.457453  "
      ]
     },
     "execution_count": 2,
     "metadata": {},
     "output_type": "execute_result"
    }
   ],
   "source": [
    "#Show row of info\n",
    "df.head(1)"
   ]
  },
  {
   "cell_type": "markdown",
   "metadata": {},
   "source": [
    "## After"
   ]
  },
  {
   "cell_type": "code",
   "execution_count": 3,
   "metadata": {},
   "outputs": [
    {
     "data": {
      "text/html": [
       "<div>\n",
       "<style scoped>\n",
       "    .dataframe tbody tr th:only-of-type {\n",
       "        vertical-align: middle;\n",
       "    }\n",
       "\n",
       "    .dataframe tbody tr th {\n",
       "        vertical-align: top;\n",
       "    }\n",
       "\n",
       "    .dataframe thead th {\n",
       "        text-align: right;\n",
       "    }\n",
       "</style>\n",
       "<table border=\"1\" class=\"dataframe\">\n",
       "  <thead>\n",
       "    <tr style=\"text-align: right;\">\n",
       "      <th></th>\n",
       "      <th>INCIDENTTIME</th>\n",
       "      <th>INCIDENTLOCATION</th>\n",
       "      <th>INCIDENTNEIGHBORHOOD</th>\n",
       "      <th>OFFENSES</th>\n",
       "    </tr>\n",
       "  </thead>\n",
       "  <tbody>\n",
       "    <tr>\n",
       "      <th>0</th>\n",
       "      <td>2023-11-06T10:00:00</td>\n",
       "      <td>1500 Block Garfield Ave Pittsburgh, PA 15212</td>\n",
       "      <td>Central North Side</td>\n",
       "      <td>029 Missing Juvenile</td>\n",
       "    </tr>\n",
       "  </tbody>\n",
       "</table>\n",
       "</div>"
      ],
      "text/plain": [
       "          INCIDENTTIME                              INCIDENTLOCATION  \\\n",
       "0  2023-11-06T10:00:00  1500 Block Garfield Ave Pittsburgh, PA 15212   \n",
       "\n",
       "  INCIDENTNEIGHBORHOOD              OFFENSES  \n",
       "0   Central North Side  029 Missing Juvenile  "
      ]
     },
     "execution_count": 3,
     "metadata": {},
     "output_type": "execute_result"
    }
   ],
   "source": [
    "#import csv URL again\n",
    "df = pd.read_csv(\"https://data.wprdc.org/datastore/dump/1797ead8-8262-41cc-9099-cbc8a161924b\")\n",
    "#remove useless columns to make information more easily understood\n",
    "df = df.drop(columns = ['_id','PK','CCR','CLEAREDFLAG','COUNCIL_DISTRICT','X','Y','INCIDENTTRACT','PUBLIC_WORKS_DIVISION','INCIDENTHIERARCHYDESC','INCIDENTZONE','HIERARCHY'])\n",
    "#show row of information without useless data\n",
    "df.head(1)"
   ]
  },
  {
   "cell_type": "code",
   "execution_count": 4,
   "metadata": {},
   "outputs": [
    {
     "data": {
      "image/png": "[encoded data removed]",
      "text/plain": [
       "<Figure size 720x576 with 1 Axes>"
      ]
     },
     "metadata": {
      "needs_background": "light"
     },
     "output_type": "display_data"
    }
   ],
   "source": [
    "import pandas as pd\n",
    "import matplotlib.pyplot as plt\n",
    "\n",
    "bot_20 = df['INCIDENTNEIGHBORHOOD'].value_counts().tail(20)\n",
    "\n",
    "#make the graph pretty\n",
    "graph = bot_20.plot(kind='bar', figsize=(10, 8))\n",
    "graph.set_ylabel('Incident Count')\n",
    "graph.set_xlabel('Neighborhood')\n",
    "graph.set_title('Top 20 Neighborhoods - Lowest Crime')\n",
    "\n",
    "plt.xticks(rotation=45, ha='right')\n",
    "\n",
    "plt.show()"
   ]
  },
  {
   "cell_type": "markdown",
   "metadata": {},
   "source": [
    "## Graph Analysis\n",
    "As you can see in the above graph, there are 4 seperate neighborhoods which only had one incident reported, meaning they are all statistically great candidates for the best neighborhood.\n",
    "\n",
    "In order to best assess which one is the safest I will look at each individual report and weigh the dangers of their crimes for Windgap, Swisshelm Park, Glen Hazel, and St. Cliar."
   ]
  },
  {
   "cell_type": "code",
   "execution_count": 5,
   "metadata": {},
   "outputs": [
    {
     "data": {
      "text/html": [
       "<div>\n",
       "<style scoped>\n",
       "    .dataframe tbody tr th:only-of-type {\n",
       "        vertical-align: middle;\n",
       "    }\n",
       "\n",
       "    .dataframe tbody tr th {\n",
       "        vertical-align: top;\n",
       "    }\n",
       "\n",
       "    .dataframe thead th {\n",
       "        text-align: right;\n",
       "    }\n",
       "</style>\n",
       "<table border=\"1\" class=\"dataframe\">\n",
       "  <thead>\n",
       "    <tr style=\"text-align: right;\">\n",
       "      <th></th>\n",
       "      <th>INCIDENTTIME</th>\n",
       "      <th>INCIDENTLOCATION</th>\n",
       "      <th>INCIDENTNEIGHBORHOOD</th>\n",
       "      <th>OFFENSES</th>\n",
       "    </tr>\n",
       "  </thead>\n",
       "  <tbody>\n",
       "    <tr>\n",
       "      <th>34</th>\n",
       "      <td>2023-11-03T04:53:00</td>\n",
       "      <td>100 Block Wabash St Pittsburgh, PA 15220</td>\n",
       "      <td>West End</td>\n",
       "      <td>9999 9999 - (Misc. Incident):</td>\n",
       "    </tr>\n",
       "    <tr>\n",
       "      <th>401</th>\n",
       "      <td>2023-11-04T00:30:00</td>\n",
       "      <td>1100 Block Uptegraf St Pittsburgh, PA 15218</td>\n",
       "      <td>Swisshelm Park</td>\n",
       "      <td>2701(a)(1) Simple Assault - Intent., Know., Re...</td>\n",
       "    </tr>\n",
       "    <tr>\n",
       "      <th>640</th>\n",
       "      <td>2023-11-13T10:17:00</td>\n",
       "      <td>900 Block Agnew Rd Pittsburgh, PA 15017</td>\n",
       "      <td>Hays</td>\n",
       "      <td>9017 Found Drugs</td>\n",
       "    </tr>\n",
       "    <tr>\n",
       "      <th>646</th>\n",
       "      <td>2023-11-09T07:45:00</td>\n",
       "      <td>500 Block Mountain Ave Pittsburgh, PA 15210</td>\n",
       "      <td>St. Clair</td>\n",
       "      <td>3745 Accidents Involving Damage to Unattended ...</td>\n",
       "    </tr>\n",
       "    <tr>\n",
       "      <th>1026</th>\n",
       "      <td>2023-11-14T07:30:00</td>\n",
       "      <td>3000 Block Arlington Ave Pittsburgh, PA 15210</td>\n",
       "      <td>Arlington Heights</td>\n",
       "      <td>4106 Access Device Fraud</td>\n",
       "    </tr>\n",
       "  </tbody>\n",
       "</table>\n",
       "</div>"
      ],
      "text/plain": [
       "             INCIDENTTIME                               INCIDENTLOCATION  \\\n",
       "34    2023-11-03T04:53:00       100 Block Wabash St Pittsburgh, PA 15220   \n",
       "401   2023-11-04T00:30:00    1100 Block Uptegraf St Pittsburgh, PA 15218   \n",
       "640   2023-11-13T10:17:00        900 Block Agnew Rd Pittsburgh, PA 15017   \n",
       "646   2023-11-09T07:45:00    500 Block Mountain Ave Pittsburgh, PA 15210   \n",
       "1026  2023-11-14T07:30:00  3000 Block Arlington Ave Pittsburgh, PA 15210   \n",
       "\n",
       "     INCIDENTNEIGHBORHOOD                                           OFFENSES  \n",
       "34               West End                     9999 9999 - (Misc. Incident):   \n",
       "401        Swisshelm Park  2701(a)(1) Simple Assault - Intent., Know., Re...  \n",
       "640                  Hays                                   9017 Found Drugs  \n",
       "646             St. Clair  3745 Accidents Involving Damage to Unattended ...  \n",
       "1026    Arlington Heights                           4106 Access Device Fraud  "
      ]
     },
     "execution_count": 5,
     "metadata": {},
     "output_type": "execute_result"
    }
   ],
   "source": [
    "#make a query mask for all the lowest crime so I can qualitatively compare\n",
    "bot5_query_mask = df['INCIDENTNEIGHBORHOOD'].str.contains(\"Swisshelm Park|West End|Hays|St. Clair|Arlington Heights\",na=False)\n",
    "\n",
    "bot5Data = df[bot5_query_mask]\n",
    "bot5Data.head()"
   ]
  },
  {
   "cell_type": "markdown",
   "metadata": {},
   "source": [
    "## Which Neighborhood is the Best?\n",
    "Even though this section is subjective, I personally believe Arlington Heights has the least severe crime. I cannot see what West End's crime was, and the other 3 are more dangerous in their own ways. Assault is violent, access device fraud is personal and could be very harmful, and drugs are dangerous. \n",
    "\n",
    "This means that I believe that the best neighborhood is:\n",
    "# ARLINGTON HEIGHTS!!\n",
    "![all of the people of Arlington heights right now](https://media.giphy.com/media/1PMVNNKVIL8Ig/giphy.gif)"
   ]
  },
  {
   "cell_type": "code",
   "execution_count": null,
   "metadata": {},
   "outputs": [],
   "source": []
  },
  {
   "cell_type": "code",
   "execution_count": null,
   "metadata": {},
   "outputs": [],
   "source": []
  }
 ],
 "metadata": {
  "kernelspec": {
   "display_name": "Python 3",
   "language": "python",
   "name": "python3"
  },
  "language_info": {
   "codemirror_mode": {
    "name": "ipython",
    "version": 3
   },
   "file_extension": ".py",
   "mimetype": "text/x-python",
   "name": "python",
   "nbconvert_exporter": "python",
   "pygments_lexer": "ipython3",
   "version": "3.8.3"
  }
 },
 "nbformat": 4,
 "nbformat_minor": 4
}
