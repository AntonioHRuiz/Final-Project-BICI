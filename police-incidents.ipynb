{
 "cells": [
  {
   "cell_type": "markdown",
   "metadata": {},
   "source": [
    "plot data\n",
    "pull request \n",
    "\n"
   ]
  },
  {
   "cell_type": "markdown",
   "metadata": {},
   "source": [
    "https://data.wprdc.org/dataset/police-incident-blotter/resource/1797ead8-8262-41cc-9099-cbc8a161924b"
   ]
  },
  {
   "cell_type": "code",
   "execution_count": 4,
   "metadata": {},
   "outputs": [
    {
     "data": {
      "text/html": [
       "<div>\n",
       "<style scoped>\n",
       "    .dataframe tbody tr th:only-of-type {\n",
       "        vertical-align: middle;\n",
       "    }\n",
       "\n",
       "    .dataframe tbody tr th {\n",
       "        vertical-align: top;\n",
       "    }\n",
       "\n",
       "    .dataframe thead th {\n",
       "        text-align: right;\n",
       "    }\n",
       "</style>\n",
       "<table border=\"1\" class=\"dataframe\">\n",
       "  <thead>\n",
       "    <tr style=\"text-align: right;\">\n",
       "      <th></th>\n",
       "      <th>_id</th>\n",
       "      <th>PK</th>\n",
       "      <th>CCR</th>\n",
       "      <th>HIERARCHY</th>\n",
       "      <th>INCIDENTTIME</th>\n",
       "      <th>INCIDENTLOCATION</th>\n",
       "      <th>CLEAREDFLAG</th>\n",
       "      <th>INCIDENTNEIGHBORHOOD</th>\n",
       "      <th>INCIDENTZONE</th>\n",
       "      <th>INCIDENTHIERARCHYDESC</th>\n",
       "      <th>OFFENSES</th>\n",
       "      <th>INCIDENTTRACT</th>\n",
       "      <th>COUNCIL_DISTRICT</th>\n",
       "      <th>PUBLIC_WORKS_DIVISION</th>\n",
       "      <th>X</th>\n",
       "      <th>Y</th>\n",
       "    </tr>\n",
       "  </thead>\n",
       "  <tbody>\n",
       "    <tr>\n",
       "      <th>0</th>\n",
       "      <td>3175521</td>\n",
       "      <td>324235775</td>\n",
       "      <td>23171535</td>\n",
       "      <td>27</td>\n",
       "      <td>2023-10-28T05:00:00</td>\n",
       "      <td>7200 Block Monticello St Pittsburgh, PA 15208</td>\n",
       "      <td>N</td>\n",
       "      <td>Homewood North</td>\n",
       "      <td>5</td>\n",
       "      <td>HIT AND RUN</td>\n",
       "      <td>3745 Accidents Involving Damage to Unattended ...</td>\n",
       "      <td>1302.0</td>\n",
       "      <td>9.0</td>\n",
       "      <td>2.0</td>\n",
       "      <td>-79.895444</td>\n",
       "      <td>40.459513</td>\n",
       "    </tr>\n",
       "    <tr>\n",
       "      <th>1</th>\n",
       "      <td>3175522</td>\n",
       "      <td>324798988</td>\n",
       "      <td>23176386</td>\n",
       "      <td>10</td>\n",
       "      <td>2023-11-06T10:30:00</td>\n",
       "      <td>100 Block Ruth St Pittsburgh, PA 15211</td>\n",
       "      <td>Y</td>\n",
       "      <td>Mount Washington</td>\n",
       "      <td>3</td>\n",
       "      <td>HARRASSMENT/THREAT/ATTEMPT/PHY</td>\n",
       "      <td>2709(a)(1) Harassment by Physical Contact, or ...</td>\n",
       "      <td>1807.0</td>\n",
       "      <td>2.0</td>\n",
       "      <td>5.0</td>\n",
       "      <td>-80.005232</td>\n",
       "      <td>40.423791</td>\n",
       "    </tr>\n",
       "    <tr>\n",
       "      <th>2</th>\n",
       "      <td>3175523</td>\n",
       "      <td>324799806</td>\n",
       "      <td>23176355</td>\n",
       "      <td>0</td>\n",
       "      <td>2023-11-06T11:00:00</td>\n",
       "      <td>7300 Block Hamilton Ave Pittsburgh, PA 15208</td>\n",
       "      <td>Y</td>\n",
       "      <td>Homewood South</td>\n",
       "      <td>5</td>\n",
       "      <td>99</td>\n",
       "      <td>4524 Windshield Obstructions and Wipers. / 627...</td>\n",
       "      <td>1303.0</td>\n",
       "      <td>9.0</td>\n",
       "      <td>2.0</td>\n",
       "      <td>-79.895648</td>\n",
       "      <td>40.454024</td>\n",
       "    </tr>\n",
       "    <tr>\n",
       "      <th>3</th>\n",
       "      <td>3175524</td>\n",
       "      <td>324806932</td>\n",
       "      <td>23176425</td>\n",
       "      <td>6</td>\n",
       "      <td>2023-11-05T22:30:00</td>\n",
       "      <td>700 Block Penn Ave Pittsburgh, PA 15219</td>\n",
       "      <td>N</td>\n",
       "      <td>Central Business District</td>\n",
       "      <td>2</td>\n",
       "      <td>THEFT</td>\n",
       "      <td>3921(a) Theft by Unlawful Taking or Dispositio...</td>\n",
       "      <td>201.0</td>\n",
       "      <td>NaN</td>\n",
       "      <td>NaN</td>\n",
       "      <td>-79.884672</td>\n",
       "      <td>40.443511</td>\n",
       "    </tr>\n",
       "    <tr>\n",
       "      <th>4</th>\n",
       "      <td>3175525</td>\n",
       "      <td>324810215</td>\n",
       "      <td>23176417</td>\n",
       "      <td>99</td>\n",
       "      <td>2023-11-06T12:51:00</td>\n",
       "      <td>7000 Block Kelly St Pittsburgh, PA 15208</td>\n",
       "      <td>N</td>\n",
       "      <td>Homewood South</td>\n",
       "      <td>5</td>\n",
       "      <td>MISSING PERSONS (18+)</td>\n",
       "      <td>9490 Missing Persons (18 and Over)</td>\n",
       "      <td>1303.0</td>\n",
       "      <td>9.0</td>\n",
       "      <td>2.0</td>\n",
       "      <td>-79.901815</td>\n",
       "      <td>40.456612</td>\n",
       "    </tr>\n",
       "  </tbody>\n",
       "</table>\n",
       "</div>"
      ],
      "text/plain": [
       "       _id         PK       CCR  HIERARCHY         INCIDENTTIME  \\\n",
       "0  3175521  324235775  23171535         27  2023-10-28T05:00:00   \n",
       "1  3175522  324798988  23176386         10  2023-11-06T10:30:00   \n",
       "2  3175523  324799806  23176355          0  2023-11-06T11:00:00   \n",
       "3  3175524  324806932  23176425          6  2023-11-05T22:30:00   \n",
       "4  3175525  324810215  23176417         99  2023-11-06T12:51:00   \n",
       "\n",
       "                                INCIDENTLOCATION CLEAREDFLAG  \\\n",
       "0  7200 Block Monticello St Pittsburgh, PA 15208           N   \n",
       "1         100 Block Ruth St Pittsburgh, PA 15211           Y   \n",
       "2   7300 Block Hamilton Ave Pittsburgh, PA 15208           Y   \n",
       "3        700 Block Penn Ave Pittsburgh, PA 15219           N   \n",
       "4       7000 Block Kelly St Pittsburgh, PA 15208           N   \n",
       "\n",
       "        INCIDENTNEIGHBORHOOD INCIDENTZONE           INCIDENTHIERARCHYDESC  \\\n",
       "0             Homewood North            5                     HIT AND RUN   \n",
       "1           Mount Washington            3  HARRASSMENT/THREAT/ATTEMPT/PHY   \n",
       "2             Homewood South            5                              99   \n",
       "3  Central Business District            2                           THEFT   \n",
       "4             Homewood South            5           MISSING PERSONS (18+)   \n",
       "\n",
       "                                            OFFENSES  INCIDENTTRACT  \\\n",
       "0  3745 Accidents Involving Damage to Unattended ...         1302.0   \n",
       "1  2709(a)(1) Harassment by Physical Contact, or ...         1807.0   \n",
       "2  4524 Windshield Obstructions and Wipers. / 627...         1303.0   \n",
       "3  3921(a) Theft by Unlawful Taking or Dispositio...          201.0   \n",
       "4                 9490 Missing Persons (18 and Over)         1303.0   \n",
       "\n",
       "   COUNCIL_DISTRICT  PUBLIC_WORKS_DIVISION          X          Y  \n",
       "0               9.0                    2.0 -79.895444  40.459513  \n",
       "1               2.0                    5.0 -80.005232  40.423791  \n",
       "2               9.0                    2.0 -79.895648  40.454024  \n",
       "3               NaN                    NaN -79.884672  40.443511  \n",
       "4               9.0                    2.0 -79.901815  40.456612  "
      ]
     },
     "execution_count": 4,
     "metadata": {},
     "output_type": "execute_result"
    }
   ],
   "source": [
    "import pandas as pd\n",
    "\n",
    "df = pd.read_csv(\"https://data.wprdc.org/datastore/dump/1797ead8-8262-41cc-9099-cbc8a161924b\")\n",
    "df.head()"
   ]
  },
  {
   "cell_type": "code",
   "execution_count": 5,
   "metadata": {},
   "outputs": [
    {
     "data": {
      "text/plain": [
       "<matplotlib.axes._subplots.AxesSubplot at 0x7fc5f7db9100>"
      ]
     },
     "execution_count": 5,
     "metadata": {},
     "output_type": "execute_result"
    },
    {
     "data": {
      "image/png": "[encoded data removed]",
      "text/plain": [
       "<Figure size 432x288 with 1 Axes>"
      ]
     },
     "metadata": {
      "needs_background": "light"
     },
     "output_type": "display_data"
    }
   ],
   "source": [
    "top_20 = df['INCIDENTNEIGHBORHOOD'].value_counts().head(20)\n",
    "\n",
    "top_20.plot(kind = 'bar')"
   ]
  },
  {
   "cell_type": "code",
   "execution_count": null,
   "metadata": {},
   "outputs": [],
   "source": []
  },
  {
   "cell_type": "code",
   "execution_count": null,
   "metadata": {},
   "outputs": [],
   "source": []
  }
 ],
 "metadata": {
  "kernelspec": {
   "display_name": "Python 3",
   "language": "python",
   "name": "python3"
  },
  "language_info": {
   "codemirror_mode": {
    "name": "ipython",
    "version": 3
   },
   "file_extension": ".py",
   "mimetype": "text/x-python",
   "name": "python",
   "nbconvert_exporter": "python",
   "pygments_lexer": "ipython3",
   "version": "3.8.3"
  }
 },
 "nbformat": 4,
 "nbformat_minor": 4
}
