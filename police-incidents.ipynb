{
 "cells": [
  {
   "cell_type": "markdown",
   "metadata": {},
   "source": [
    "## Determining the Best City in Pittsburgh!\n",
    "\n",
    "I will be determining which city I think is the best in Pittsburgh by examining police report data and looking at what neighborhoods have the lowest reported crime.\n",
    "\n",
    "![pgh](https://media.giphy.com/media/EBZZxeGUKuO4dfDJyw/giphy.gif)\n"
   ]
  },
  {
   "cell_type": "code",
   "execution_count": 32,
   "metadata": {},
   "outputs": [],
   "source": [
    "import pandas as pd\n",
    "\n",
    "df = pd.read_csv(\"https://data.wprdc.org/datastore/dump/1797ead8-8262-41cc-9099-cbc8a161924b\")"
   ]
  },
  {
   "cell_type": "markdown",
   "metadata": {},
   "source": [
    "## Why Did I Drop Some Columns?\n",
    "There were far too many columns with random numbers, and it is much easier to read with less information, therefore I dropped a lot of the random information."
   ]
  },
  {
   "cell_type": "markdown",
   "metadata": {},
   "source": [
    "## Before"
   ]
  },
  {
   "cell_type": "code",
   "execution_count": 33,
   "metadata": {},
   "outputs": [
    {
     "data": {
      "text/html": [
       "<div>\n",
       "<style scoped>\n",
       "    .dataframe tbody tr th:only-of-type {\n",
       "        vertical-align: middle;\n",
       "    }\n",
       "\n",
       "    .dataframe tbody tr th {\n",
       "        vertical-align: top;\n",
       "    }\n",
       "\n",
       "    .dataframe thead th {\n",
       "        text-align: right;\n",
       "    }\n",
       "</style>\n",
       "<table border=\"1\" class=\"dataframe\">\n",
       "  <thead>\n",
       "    <tr style=\"text-align: right;\">\n",
       "      <th></th>\n",
       "      <th>_id</th>\n",
       "      <th>PK</th>\n",
       "      <th>CCR</th>\n",
       "      <th>HIERARCHY</th>\n",
       "      <th>INCIDENTTIME</th>\n",
       "      <th>INCIDENTLOCATION</th>\n",
       "      <th>CLEAREDFLAG</th>\n",
       "      <th>INCIDENTNEIGHBORHOOD</th>\n",
       "      <th>INCIDENTZONE</th>\n",
       "      <th>INCIDENTHIERARCHYDESC</th>\n",
       "      <th>OFFENSES</th>\n",
       "      <th>INCIDENTTRACT</th>\n",
       "      <th>COUNCIL_DISTRICT</th>\n",
       "      <th>PUBLIC_WORKS_DIVISION</th>\n",
       "      <th>X</th>\n",
       "      <th>Y</th>\n",
       "    </tr>\n",
       "  </thead>\n",
       "  <tbody>\n",
       "    <tr>\n",
       "      <th>0</th>\n",
       "      <td>3213265</td>\n",
       "      <td>324785812</td>\n",
       "      <td>23176351</td>\n",
       "      <td>29</td>\n",
       "      <td>2023-11-06T10:00:00</td>\n",
       "      <td>1500 Block Garfield Ave Pittsburgh, PA 15212</td>\n",
       "      <td>N</td>\n",
       "      <td>Central North Side</td>\n",
       "      <td>1</td>\n",
       "      <td>RUNAWAYS - JUVENILE</td>\n",
       "      <td>029 Missing Juvenile</td>\n",
       "      <td>2503.0</td>\n",
       "      <td>6.0</td>\n",
       "      <td>1.0</td>\n",
       "      <td>-80.012202</td>\n",
       "      <td>40.457453</td>\n",
       "    </tr>\n",
       "  </tbody>\n",
       "</table>\n",
       "</div>"
      ],
      "text/plain": [
       "       _id         PK       CCR  HIERARCHY         INCIDENTTIME  \\\n",
       "0  3213265  324785812  23176351         29  2023-11-06T10:00:00   \n",
       "\n",
       "                               INCIDENTLOCATION CLEAREDFLAG  \\\n",
       "0  1500 Block Garfield Ave Pittsburgh, PA 15212           N   \n",
       "\n",
       "  INCIDENTNEIGHBORHOOD INCIDENTZONE INCIDENTHIERARCHYDESC  \\\n",
       "0   Central North Side            1   RUNAWAYS - JUVENILE   \n",
       "\n",
       "               OFFENSES  INCIDENTTRACT  COUNCIL_DISTRICT  \\\n",
       "0  029 Missing Juvenile         2503.0               6.0   \n",
       "\n",
       "   PUBLIC_WORKS_DIVISION          X          Y  \n",
       "0                    1.0 -80.012202  40.457453  "
      ]
     },
     "execution_count": 33,
     "metadata": {},
     "output_type": "execute_result"
    }
   ],
   "source": [
    "df.head(1)"
   ]
  },
  {
   "cell_type": "markdown",
   "metadata": {},
   "source": [
    "## After"
   ]
  },
  {
   "cell_type": "code",
   "execution_count": 36,
   "metadata": {},
   "outputs": [
    {
     "data": {
      "text/html": [
       "<div>\n",
       "<style scoped>\n",
       "    .dataframe tbody tr th:only-of-type {\n",
       "        vertical-align: middle;\n",
       "    }\n",
       "\n",
       "    .dataframe tbody tr th {\n",
       "        vertical-align: top;\n",
       "    }\n",
       "\n",
       "    .dataframe thead th {\n",
       "        text-align: right;\n",
       "    }\n",
       "</style>\n",
       "<table border=\"1\" class=\"dataframe\">\n",
       "  <thead>\n",
       "    <tr style=\"text-align: right;\">\n",
       "      <th></th>\n",
       "      <th>INCIDENTTIME</th>\n",
       "      <th>INCIDENTLOCATION</th>\n",
       "      <th>INCIDENTNEIGHBORHOOD</th>\n",
       "      <th>OFFENSES</th>\n",
       "    </tr>\n",
       "  </thead>\n",
       "  <tbody>\n",
       "    <tr>\n",
       "      <th>0</th>\n",
       "      <td>2023-11-06T10:00:00</td>\n",
       "      <td>1500 Block Garfield Ave Pittsburgh, PA 15212</td>\n",
       "      <td>Central North Side</td>\n",
       "      <td>029 Missing Juvenile</td>\n",
       "    </tr>\n",
       "  </tbody>\n",
       "</table>\n",
       "</div>"
      ],
      "text/plain": [
       "          INCIDENTTIME                              INCIDENTLOCATION  \\\n",
       "0  2023-11-06T10:00:00  1500 Block Garfield Ave Pittsburgh, PA 15212   \n",
       "\n",
       "  INCIDENTNEIGHBORHOOD              OFFENSES  \n",
       "0   Central North Side  029 Missing Juvenile  "
      ]
     },
     "execution_count": 36,
     "metadata": {},
     "output_type": "execute_result"
    }
   ],
   "source": [
    "df = pd.read_csv(\"https://data.wprdc.org/datastore/dump/1797ead8-8262-41cc-9099-cbc8a161924b\")\n",
    "df = df.drop(columns = ['_id','PK','CCR','CLEAREDFLAG','COUNCIL_DISTRICT','X','Y','INCIDENTTRACT','PUBLIC_WORKS_DIVISION','INCIDENTHIERARCHYDESC','INCIDENTZONE','HIERARCHY'])\n",
    "df.head(1)"
   ]
  },
  {
   "cell_type": "code",
   "execution_count": 27,
   "metadata": {},
   "outputs": [
    {
     "data": {
      "image/png": "[encoded data removed]",
      "text/plain": [
       "<Figure size 720x576 with 1 Axes>"
      ]
     },
     "metadata": {
      "needs_background": "light"
     },
     "output_type": "display_data"
    }
   ],
   "source": [
    "import pandas as pd\n",
    "import matplotlib.pyplot as plt\n",
    "\n",
    "bot_20 = df['INCIDENTNEIGHBORHOOD'].value_counts().tail(20)\n",
    "\n",
    "graph = bot_20.plot(kind='bar', figsize=(10, 8))\n",
    "graph.set_ylabel('Incident Count')\n",
    "graph.set_xlabel('Neighborhood')\n",
    "\n",
    "plt.xticks(rotation=45, ha='right')\n",
    "\n",
    "plt.show()"
   ]
  },
  {
   "cell_type": "markdown",
   "metadata": {},
   "source": [
    "## First Graph Analysis\n",
    "As you can see in the above graph, there are 4 seperate neighborhoods which only had one incident reported, meaning they are all statistically great candidates for the best neighborhood.\n",
    "\n",
    "In order to best assess which one is the safest I will look at each individual report and weigh the dangers of their crimes for Windgap, Swisshelm Park, Glen Hazel, and St. Cliar."
   ]
  },
  {
   "cell_type": "code",
   "execution_count": 18,
   "metadata": {},
   "outputs": [
    {
     "data": {
      "text/html": [
       "<div>\n",
       "<style scoped>\n",
       "    .dataframe tbody tr th:only-of-type {\n",
       "        vertical-align: middle;\n",
       "    }\n",
       "\n",
       "    .dataframe tbody tr th {\n",
       "        vertical-align: top;\n",
       "    }\n",
       "\n",
       "    .dataframe thead th {\n",
       "        text-align: right;\n",
       "    }\n",
       "</style>\n",
       "<table border=\"1\" class=\"dataframe\">\n",
       "  <thead>\n",
       "    <tr style=\"text-align: right;\">\n",
       "      <th></th>\n",
       "      <th>INCIDENTTIME</th>\n",
       "      <th>INCIDENTLOCATION</th>\n",
       "      <th>INCIDENTNEIGHBORHOOD</th>\n",
       "      <th>OFFENSES</th>\n",
       "    </tr>\n",
       "  </thead>\n",
       "  <tbody>\n",
       "    <tr>\n",
       "      <th>211</th>\n",
       "      <td>2023-10-27T12:27:00</td>\n",
       "      <td>3800 Block Wind Gap Ave Pittsburgh, PA 15204</td>\n",
       "      <td>Windgap</td>\n",
       "      <td>2709(a)(1) Harassment by Physical Contact, or ...</td>\n",
       "    </tr>\n",
       "    <tr>\n",
       "      <th>787</th>\n",
       "      <td>2023-11-04T00:30:00</td>\n",
       "      <td>1100 Block Uptegraf St Pittsburgh, PA 15218</td>\n",
       "      <td>Swisshelm Park</td>\n",
       "      <td>2701(a)(1) Simple Assault - Intent., Know., Re...</td>\n",
       "    </tr>\n",
       "    <tr>\n",
       "      <th>977</th>\n",
       "      <td>2023-10-29T12:15:00</td>\n",
       "      <td>400 Block Bailey Ave Pittsburgh, PA 15211</td>\n",
       "      <td>Glen Hazel</td>\n",
       "      <td>9489 Found Property</td>\n",
       "    </tr>\n",
       "    <tr>\n",
       "      <th>1205</th>\n",
       "      <td>2023-11-09T07:45:00</td>\n",
       "      <td>500 Block Mountain Ave Pittsburgh, PA 15210</td>\n",
       "      <td>St. Clair</td>\n",
       "      <td>3745 Accidents Involving Damage to Unattended ...</td>\n",
       "    </tr>\n",
       "  </tbody>\n",
       "</table>\n",
       "</div>"
      ],
      "text/plain": [
       "             INCIDENTTIME                              INCIDENTLOCATION  \\\n",
       "211   2023-10-27T12:27:00  3800 Block Wind Gap Ave Pittsburgh, PA 15204   \n",
       "787   2023-11-04T00:30:00   1100 Block Uptegraf St Pittsburgh, PA 15218   \n",
       "977   2023-10-29T12:15:00     400 Block Bailey Ave Pittsburgh, PA 15211   \n",
       "1205  2023-11-09T07:45:00   500 Block Mountain Ave Pittsburgh, PA 15210   \n",
       "\n",
       "     INCIDENTNEIGHBORHOOD                                           OFFENSES  \n",
       "211               Windgap  2709(a)(1) Harassment by Physical Contact, or ...  \n",
       "787        Swisshelm Park  2701(a)(1) Simple Assault - Intent., Know., Re...  \n",
       "977            Glen Hazel                                9489 Found Property  \n",
       "1205            St. Clair  3745 Accidents Involving Damage to Unattended ...  "
      ]
     },
     "execution_count": 18,
     "metadata": {},
     "output_type": "execute_result"
    }
   ],
   "source": [
    "bot4_query_mask = df['INCIDENTNEIGHBORHOOD'].str.contains(\"Swisshelm Park|Glen Hazel|Windgap|St. Clair\",na=False)\n",
    "\n",
    "bot4Data = df[bot4_query_mask]\n",
    "bot4Data.head()"
   ]
  },
  {
   "cell_type": "markdown",
   "metadata": {},
   "source": [
    "## Which Neighborhood is the Best?\n",
    "Even though this section is subjective, I personally believe found property is the least severe crime of the 4. Harassment by physical contact, and simple assault are both violent crimes and accidents involvding damage to unattended vehichles or property would mean that you have a higher chance of your property being negatively impacted.\n",
    "\n",
    "This means that I believe that the best neighborhood is:\n",
    "# ST. CLAIR!!\n",
    "![all of the people of St. Clair right now](https://media.giphy.com/media/1PMVNNKVIL8Ig/giphy.gif)"
   ]
  }
 ],
 "metadata": {
  "kernelspec": {
   "display_name": "Python 3",
   "language": "python",
   "name": "python3"
  },
  "language_info": {
   "codemirror_mode": {
    "name": "ipython",
    "version": 3
   },
   "file_extension": ".py",
   "mimetype": "text/x-python",
   "name": "python",
   "nbconvert_exporter": "python",
   "pygments_lexer": "ipython3",
   "version": "3.8.3"
  }
 },
 "nbformat": 4,
 "nbformat_minor": 4
}
