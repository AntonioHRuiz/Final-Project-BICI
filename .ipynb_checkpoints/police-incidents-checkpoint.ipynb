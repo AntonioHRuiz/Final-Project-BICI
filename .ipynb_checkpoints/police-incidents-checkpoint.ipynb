{
 "cells": [
  {
   "cell_type": "markdown",
   "metadata": {},
   "source": [
    "plot data\n",
    "pull request \n",
    "\n"
   ]
  },
  {
   "cell_type": "markdown",
   "metadata": {},
   "source": [
    "https://data.wprdc.org/dataset/police-incident-blotter/resource/1797ead8-8262-41cc-9099-cbc8a161924b"
   ]
  },
  {
   "cell_type": "code",
   "execution_count": 60,
   "metadata": {},
   "outputs": [
    {
     "data": {
      "text/html": [
       "<div>\n",
       "<style scoped>\n",
       "    .dataframe tbody tr th:only-of-type {\n",
       "        vertical-align: middle;\n",
       "    }\n",
       "\n",
       "    .dataframe tbody tr th {\n",
       "        vertical-align: top;\n",
       "    }\n",
       "\n",
       "    .dataframe thead th {\n",
       "        text-align: right;\n",
       "    }\n",
       "</style>\n",
       "<table border=\"1\" class=\"dataframe\">\n",
       "  <thead>\n",
       "    <tr style=\"text-align: right;\">\n",
       "      <th></th>\n",
       "      <th>INCIDENTTIME</th>\n",
       "      <th>INCIDENTLOCATION</th>\n",
       "      <th>INCIDENTNEIGHBORHOOD</th>\n",
       "      <th>OFFENSES</th>\n",
       "    </tr>\n",
       "  </thead>\n",
       "  <tbody>\n",
       "    <tr>\n",
       "      <th>1821</th>\n",
       "      <td>2023-11-05T18:20:00</td>\n",
       "      <td>700 Block Mt Pleasant Rd Pittsburgh, PA 15214</td>\n",
       "      <td>Northview Heights</td>\n",
       "      <td>2702 Aggravated Assault.</td>\n",
       "    </tr>\n",
       "    <tr>\n",
       "      <th>1822</th>\n",
       "      <td>2023-11-05T20:21:00</td>\n",
       "      <td>200 Block Voeghtly St Pittsburgh, PA 15212</td>\n",
       "      <td>North Shore</td>\n",
       "      <td>9999 9999 - (Misc. Incident):</td>\n",
       "    </tr>\n",
       "    <tr>\n",
       "      <th>1823</th>\n",
       "      <td>2023-11-05T21:47:00</td>\n",
       "      <td>200 Block Paul St Pittsburgh, PA 15211</td>\n",
       "      <td>Mount Washington</td>\n",
       "      <td>3503 Criminal Trespass</td>\n",
       "    </tr>\n",
       "    <tr>\n",
       "      <th>1824</th>\n",
       "      <td>2023-11-18T23:52:00</td>\n",
       "      <td>500 Block Liberty Ave Pittsburgh, PA 15222</td>\n",
       "      <td>Central Business District</td>\n",
       "      <td>2709(a)(1) Harassment by Physical Contact, or ...</td>\n",
       "    </tr>\n",
       "    <tr>\n",
       "      <th>1825</th>\n",
       "      <td>2023-11-19T01:00:00</td>\n",
       "      <td>500 Block Liberty Ave Pittsburgh, PA 15222</td>\n",
       "      <td>Central Business District</td>\n",
       "      <td>2709(a)(1) Harassment by Physical Contact, or ...</td>\n",
       "    </tr>\n",
       "  </tbody>\n",
       "</table>\n",
       "</div>"
      ],
      "text/plain": [
       "             INCIDENTTIME                               INCIDENTLOCATION  \\\n",
       "1821  2023-11-05T18:20:00  700 Block Mt Pleasant Rd Pittsburgh, PA 15214   \n",
       "1822  2023-11-05T20:21:00     200 Block Voeghtly St Pittsburgh, PA 15212   \n",
       "1823  2023-11-05T21:47:00         200 Block Paul St Pittsburgh, PA 15211   \n",
       "1824  2023-11-18T23:52:00     500 Block Liberty Ave Pittsburgh, PA 15222   \n",
       "1825  2023-11-19T01:00:00     500 Block Liberty Ave Pittsburgh, PA 15222   \n",
       "\n",
       "           INCIDENTNEIGHBORHOOD  \\\n",
       "1821          Northview Heights   \n",
       "1822                North Shore   \n",
       "1823           Mount Washington   \n",
       "1824  Central Business District   \n",
       "1825  Central Business District   \n",
       "\n",
       "                                               OFFENSES  \n",
       "1821                           2702 Aggravated Assault.  \n",
       "1822                     9999 9999 - (Misc. Incident):   \n",
       "1823                             3503 Criminal Trespass  \n",
       "1824  2709(a)(1) Harassment by Physical Contact, or ...  \n",
       "1825  2709(a)(1) Harassment by Physical Contact, or ...  "
      ]
     },
     "execution_count": 60,
     "metadata": {},
     "output_type": "execute_result"
    }
   ],
   "source": [
    "import pandas as pd\n",
    "\n",
    "df = pd.read_csv(\"https://data.wprdc.org/datastore/dump/1797ead8-8262-41cc-9099-cbc8a161924b\")\n",
    "df = df.drop(columns = ['_id','PK','CCR','CLEAREDFLAG','COUNCIL_DISTRICT','X','Y','INCIDENTTRACT','PUBLIC_WORKS_DIVISION','INCIDENTHIERARCHYDESC','INCIDENTZONE','HIERARCHY'])\n",
    "df.tail()"
   ]
  },
  {
   "cell_type": "markdown",
   "metadata": {},
   "source": [
    "# Why Did I Drop Some Columns?\n",
    "There were far too many columns with random numbers, and it is much easier to read with less information, therefore I dropped a lot of the random information."
   ]
  },
  {
   "cell_type": "code",
   "execution_count": 62,
   "metadata": {},
   "outputs": [
    {
     "data": {
      "text/plain": [
       "St. Clair                      1\n",
       "Windgap                        1\n",
       "Glen Hazel                     1\n",
       "Swisshelm Park                 1\n",
       "Arlington Heights              2\n",
       "                            ... \n",
       "Mount Washington              48\n",
       "Shadyside                     49\n",
       "Carrick                       52\n",
       "South Side Flats             117\n",
       "Central Business District    151\n",
       "Name: INCIDENTNEIGHBORHOOD, Length: 89, dtype: int64"
      ]
     },
     "execution_count": 62,
     "metadata": {},
     "output_type": "execute_result"
    }
   ],
   "source": [
    "df['INCIDENTNEIGHBORHOOD'].value_counts().sort_values(ascending = True)"
   ]
  },
  {
   "cell_type": "code",
   "execution_count": 63,
   "metadata": {},
   "outputs": [
    {
     "data": {
      "text/plain": [
       "<matplotlib.axes._subplots.AxesSubplot at 0x7f363b5e2d90>"
      ]
     },
     "execution_count": 63,
     "metadata": {},
     "output_type": "execute_result"
    },
    {
     "data": {
      "image/png": "[encoded data removed]",
      "text/plain": [
       "<Figure size 432x288 with 1 Axes>"
      ]
     },
     "metadata": {
      "needs_background": "light"
     },
     "output_type": "display_data"
    }
   ],
   "source": [
    "import pandas as pd\n",
    "top_20 = df['INCIDENTNEIGHBORHOOD'].value_counts().tail(20)\n",
    "top_20.plot(kind = 'bar')\n",
    "top_20.plot()"
   ]
  },
  {
   "cell_type": "markdown",
   "metadata": {},
   "source": [
    "## First Graph Analysis\n",
    "\n",
    "As you can see in the above graph, there are 4 seperate neighborhoods which only had one incident reported, meaning they are all statistically great candidates for the best neighborhood.\n",
    "\n",
    "In order to best assess which one is the safest I will look at each individual report and weigh the dangers of their crimes for Windgap, Mt. Oliver, Glen Hazel, and St. Cliar."
   ]
  },
  {
   "cell_type": "code",
   "execution_count": 37,
   "metadata": {},
   "outputs": [
    {
     "data": {
      "text/html": [
       "<div>\n",
       "<style scoped>\n",
       "    .dataframe tbody tr th:only-of-type {\n",
       "        vertical-align: middle;\n",
       "    }\n",
       "\n",
       "    .dataframe tbody tr th {\n",
       "        vertical-align: top;\n",
       "    }\n",
       "\n",
       "    .dataframe thead th {\n",
       "        text-align: right;\n",
       "    }\n",
       "</style>\n",
       "<table border=\"1\" class=\"dataframe\">\n",
       "  <thead>\n",
       "    <tr style=\"text-align: right;\">\n",
       "      <th></th>\n",
       "      <th>HIERARCHY</th>\n",
       "      <th>INCIDENTTIME</th>\n",
       "      <th>INCIDENTLOCATION</th>\n",
       "      <th>INCIDENTNEIGHBORHOOD</th>\n",
       "      <th>INCIDENTZONE</th>\n",
       "      <th>INCIDENTHIERARCHYDESC</th>\n",
       "      <th>OFFENSES</th>\n",
       "      <th>INCIDENTTRACT</th>\n",
       "      <th>PUBLIC_WORKS_DIVISION</th>\n",
       "    </tr>\n",
       "  </thead>\n",
       "  <tbody>\n",
       "    <tr>\n",
       "      <th>211</th>\n",
       "      <td>10</td>\n",
       "      <td>2023-10-27T12:27:00</td>\n",
       "      <td>3800 Block Wind Gap Ave Pittsburgh, PA 15204</td>\n",
       "      <td>Windgap</td>\n",
       "      <td>6</td>\n",
       "      <td>HARRASSMENT/THREAT/ATTEMPT/PHY</td>\n",
       "      <td>2709(a)(1) Harassment by Physical Contact, or ...</td>\n",
       "      <td>2807.0</td>\n",
       "      <td>5.0</td>\n",
       "    </tr>\n",
       "  </tbody>\n",
       "</table>\n",
       "</div>"
      ],
      "text/plain": [
       "     HIERARCHY         INCIDENTTIME  \\\n",
       "211         10  2023-10-27T12:27:00   \n",
       "\n",
       "                                 INCIDENTLOCATION INCIDENTNEIGHBORHOOD  \\\n",
       "211  3800 Block Wind Gap Ave Pittsburgh, PA 15204              Windgap   \n",
       "\n",
       "    INCIDENTZONE           INCIDENTHIERARCHYDESC  \\\n",
       "211            6  HARRASSMENT/THREAT/ATTEMPT/PHY   \n",
       "\n",
       "                                              OFFENSES  INCIDENTTRACT  \\\n",
       "211  2709(a)(1) Harassment by Physical Contact, or ...         2807.0   \n",
       "\n",
       "     PUBLIC_WORKS_DIVISION  \n",
       "211                    5.0  "
      ]
     },
     "execution_count": 37,
     "metadata": {},
     "output_type": "execute_result"
    }
   ],
   "source": [
    "Wind_query_mask = df['INCIDENTNEIGHBORHOOD']==\"Windgap\"\n",
    "\n",
    "WindgapData = df[Wind_query_mask]\n",
    "WindgapData.head()"
   ]
  },
  {
   "cell_type": "code",
   "execution_count": 68,
   "metadata": {},
   "outputs": [
    {
     "data": {
      "text/html": [
       "<div>\n",
       "<style scoped>\n",
       "    .dataframe tbody tr th:only-of-type {\n",
       "        vertical-align: middle;\n",
       "    }\n",
       "\n",
       "    .dataframe tbody tr th {\n",
       "        vertical-align: top;\n",
       "    }\n",
       "\n",
       "    .dataframe thead th {\n",
       "        text-align: right;\n",
       "    }\n",
       "</style>\n",
       "<table border=\"1\" class=\"dataframe\">\n",
       "  <thead>\n",
       "    <tr style=\"text-align: right;\">\n",
       "      <th></th>\n",
       "      <th>INCIDENTTIME</th>\n",
       "      <th>INCIDENTLOCATION</th>\n",
       "      <th>INCIDENTNEIGHBORHOOD</th>\n",
       "      <th>OFFENSES</th>\n",
       "    </tr>\n",
       "  </thead>\n",
       "  <tbody>\n",
       "    <tr>\n",
       "      <th>787</th>\n",
       "      <td>2023-11-04T00:30:00</td>\n",
       "      <td>1100 Block Uptegraf St Pittsburgh, PA 15218</td>\n",
       "      <td>Swisshelm Park</td>\n",
       "      <td>2701(a)(1) Simple Assault - Intent., Know., Re...</td>\n",
       "    </tr>\n",
       "  </tbody>\n",
       "</table>\n",
       "</div>"
      ],
      "text/plain": [
       "            INCIDENTTIME                             INCIDENTLOCATION  \\\n",
       "787  2023-11-04T00:30:00  1100 Block Uptegraf St Pittsburgh, PA 15218   \n",
       "\n",
       "    INCIDENTNEIGHBORHOOD                                           OFFENSES  \n",
       "787       Swisshelm Park  2701(a)(1) Simple Assault - Intent., Know., Re...  "
      ]
     },
     "execution_count": 68,
     "metadata": {},
     "output_type": "execute_result"
    }
   ],
   "source": [
    "newlist = [\"Swisshelm Park\",\"Glen Hazel\",\"St. Clair\",\"Windgap\"]\n",
    "Swiss_query_mask = df['INCIDENTNEIGHBORHOOD'].str.contains(\"Swisshelm Park\"or\"Glen Hazel\"or\"Windgap\", na=False)\n",
    "\n",
    "SwissData = df[Swiss_query_mask]\n",
    "SwissData.head()"
   ]
  },
  {
   "cell_type": "code",
   "execution_count": 39,
   "metadata": {},
   "outputs": [
    {
     "data": {
      "text/html": [
       "<div>\n",
       "<style scoped>\n",
       "    .dataframe tbody tr th:only-of-type {\n",
       "        vertical-align: middle;\n",
       "    }\n",
       "\n",
       "    .dataframe tbody tr th {\n",
       "        vertical-align: top;\n",
       "    }\n",
       "\n",
       "    .dataframe thead th {\n",
       "        text-align: right;\n",
       "    }\n",
       "</style>\n",
       "<table border=\"1\" class=\"dataframe\">\n",
       "  <thead>\n",
       "    <tr style=\"text-align: right;\">\n",
       "      <th></th>\n",
       "      <th>HIERARCHY</th>\n",
       "      <th>INCIDENTTIME</th>\n",
       "      <th>INCIDENTLOCATION</th>\n",
       "      <th>INCIDENTNEIGHBORHOOD</th>\n",
       "      <th>INCIDENTZONE</th>\n",
       "      <th>INCIDENTHIERARCHYDESC</th>\n",
       "      <th>OFFENSES</th>\n",
       "      <th>INCIDENTTRACT</th>\n",
       "      <th>PUBLIC_WORKS_DIVISION</th>\n",
       "    </tr>\n",
       "  </thead>\n",
       "  <tbody>\n",
       "    <tr>\n",
       "      <th>977</th>\n",
       "      <td>99</td>\n",
       "      <td>2023-10-29T12:15:00</td>\n",
       "      <td>400 Block Bailey Ave Pittsburgh, PA 15211</td>\n",
       "      <td>Glen Hazel</td>\n",
       "      <td>3</td>\n",
       "      <td>FOUND PROPERTY</td>\n",
       "      <td>9489 Found Property</td>\n",
       "      <td>1504.0</td>\n",
       "      <td>5.0</td>\n",
       "    </tr>\n",
       "  </tbody>\n",
       "</table>\n",
       "</div>"
      ],
      "text/plain": [
       "     HIERARCHY         INCIDENTTIME  \\\n",
       "977         99  2023-10-29T12:15:00   \n",
       "\n",
       "                              INCIDENTLOCATION INCIDENTNEIGHBORHOOD  \\\n",
       "977  400 Block Bailey Ave Pittsburgh, PA 15211           Glen Hazel   \n",
       "\n",
       "    INCIDENTZONE INCIDENTHIERARCHYDESC             OFFENSES  INCIDENTTRACT  \\\n",
       "977            3        FOUND PROPERTY  9489 Found Property         1504.0   \n",
       "\n",
       "     PUBLIC_WORKS_DIVISION  \n",
       "977                    5.0  "
      ]
     },
     "execution_count": 39,
     "metadata": {},
     "output_type": "execute_result"
    }
   ],
   "source": [
    "Glen_query_mask = df['INCIDENTNEIGHBORHOOD'] == \"Glen Hazel\"\n",
    "\n",
    "GlenData = df[Glen_query_mask]\n",
    "GlenData.head()"
   ]
  },
  {
   "cell_type": "code",
   "execution_count": 40,
   "metadata": {},
   "outputs": [
    {
     "data": {
      "text/html": [
       "<div>\n",
       "<style scoped>\n",
       "    .dataframe tbody tr th:only-of-type {\n",
       "        vertical-align: middle;\n",
       "    }\n",
       "\n",
       "    .dataframe tbody tr th {\n",
       "        vertical-align: top;\n",
       "    }\n",
       "\n",
       "    .dataframe thead th {\n",
       "        text-align: right;\n",
       "    }\n",
       "</style>\n",
       "<table border=\"1\" class=\"dataframe\">\n",
       "  <thead>\n",
       "    <tr style=\"text-align: right;\">\n",
       "      <th></th>\n",
       "      <th>HIERARCHY</th>\n",
       "      <th>INCIDENTTIME</th>\n",
       "      <th>INCIDENTLOCATION</th>\n",
       "      <th>INCIDENTNEIGHBORHOOD</th>\n",
       "      <th>INCIDENTZONE</th>\n",
       "      <th>INCIDENTHIERARCHYDESC</th>\n",
       "      <th>OFFENSES</th>\n",
       "      <th>INCIDENTTRACT</th>\n",
       "      <th>PUBLIC_WORKS_DIVISION</th>\n",
       "    </tr>\n",
       "  </thead>\n",
       "  <tbody>\n",
       "    <tr>\n",
       "      <th>1205</th>\n",
       "      <td>27</td>\n",
       "      <td>2023-11-09T07:45:00</td>\n",
       "      <td>500 Block Mountain Ave Pittsburgh, PA 15210</td>\n",
       "      <td>St. Clair</td>\n",
       "      <td>3</td>\n",
       "      <td>HIT AND RUN</td>\n",
       "      <td>3745 Accidents Involving Damage to Unattended ...</td>\n",
       "      <td>1606.0</td>\n",
       "      <td>NaN</td>\n",
       "    </tr>\n",
       "  </tbody>\n",
       "</table>\n",
       "</div>"
      ],
      "text/plain": [
       "      HIERARCHY         INCIDENTTIME  \\\n",
       "1205         27  2023-11-09T07:45:00   \n",
       "\n",
       "                                 INCIDENTLOCATION INCIDENTNEIGHBORHOOD  \\\n",
       "1205  500 Block Mountain Ave Pittsburgh, PA 15210            St. Clair   \n",
       "\n",
       "     INCIDENTZONE INCIDENTHIERARCHYDESC  \\\n",
       "1205            3           HIT AND RUN   \n",
       "\n",
       "                                               OFFENSES  INCIDENTTRACT  \\\n",
       "1205  3745 Accidents Involving Damage to Unattended ...         1606.0   \n",
       "\n",
       "      PUBLIC_WORKS_DIVISION  \n",
       "1205                    NaN  "
      ]
     },
     "execution_count": 40,
     "metadata": {},
     "output_type": "execute_result"
    }
   ],
   "source": [
    "Clair_query_mask = df['INCIDENTNEIGHBORHOOD'] == \"St. Clair\"\n",
    "\n",
    "ClairData = df[Clair_query_mask]\n",
    "ClairData.head()"
   ]
  },
  {
   "cell_type": "code",
   "execution_count": null,
   "metadata": {},
   "outputs": [],
   "source": []
  },
  {
   "cell_type": "code",
   "execution_count": null,
   "metadata": {},
   "outputs": [],
   "source": []
  }
 ],
 "metadata": {
  "kernelspec": {
   "display_name": "Python 3",
   "language": "python",
   "name": "python3"
  },
  "language_info": {
   "codemirror_mode": {
    "name": "ipython",
    "version": 3
   },
   "file_extension": ".py",
   "mimetype": "text/x-python",
   "name": "python",
   "nbconvert_exporter": "python",
   "pygments_lexer": "ipython3",
   "version": "3.8.3"
  }
 },
 "nbformat": 4,
 "nbformat_minor": 4
}
