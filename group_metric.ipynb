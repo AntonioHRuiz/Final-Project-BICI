{
 "cells": [
  {
   "cell_type": "code",
   "execution_count": 3,
   "metadata": {},
   "outputs": [],
   "source": [
    "\n",
    "import matplotlib.pyplot as plt\n",
    "import pandas as pd\n",
    "\n",
    "# read the files\n",
    "fire = pd.read_csv(\"fire-Incidents.csv\")\n",
    "police = pd.read_csv(\"police.csv\")\n",
    "trash = fire = pd.read_csv(\"smart-trash-containers.csv\")\n",
    "\n",
    "# count the amount in each neighborhood\n",
    "fire_counts = fire['neighborhood'].value_counts()\n",
    "police_counts = police['INCIDENTNEIGHBORHOOD'].value_counts()\n",
    "trash_counts = trash['neighborhood'].value_counts()\n"
   ]
  },
  {
   "cell_type": "code",
   "execution_count": 1,
   "metadata": {},
   "outputs": [
    {
     "ename": "NameError",
     "evalue": "name 'fire_counts' is not defined",
     "output_type": "error",
     "traceback": [
      "\u001b[0;31m---------------------------------------------------------------------------\u001b[0m",
      "\u001b[0;31mNameError\u001b[0m                                 Traceback (most recent call last)",
      "\u001b[0;32m<ipython-input-1-136fc7ee1899>\u001b[0m in \u001b[0;36m<module>\u001b[0;34m\u001b[0m\n\u001b[1;32m      1\u001b[0m \u001b[0;31m#create metric\u001b[0m\u001b[0;34m\u001b[0m\u001b[0;34m\u001b[0m\u001b[0;34m\u001b[0m\u001b[0m\n\u001b[0;32m----> 2\u001b[0;31m \u001b[0mcomposite_metric\u001b[0m \u001b[0;34m=\u001b[0m \u001b[0;34m(\u001b[0m\u001b[0mfire_counts\u001b[0m \u001b[0;34m+\u001b[0m \u001b[0mpolice_counts\u001b[0m\u001b[0;34m)\u001b[0m \u001b[0;34m/\u001b[0m \u001b[0mtrash_counts\u001b[0m\u001b[0;34m\u001b[0m\u001b[0;34m\u001b[0m\u001b[0m\n\u001b[0m\u001b[1;32m      3\u001b[0m \u001b[0;34m\u001b[0m\u001b[0m\n\u001b[1;32m      4\u001b[0m \u001b[0;31m# make a DataFrame with the results\u001b[0m\u001b[0;34m\u001b[0m\u001b[0;34m\u001b[0m\u001b[0;34m\u001b[0m\u001b[0m\n\u001b[1;32m      5\u001b[0m neighborhood_scores = pd.DataFrame({\n",
      "\u001b[0;31mNameError\u001b[0m: name 'fire_counts' is not defined"
     ]
    }
   ],
   "source": [
    "#create metric\n",
    "composite_metric = (fire_counts + police_counts) / trash_counts\n",
    "\n",
    "# make a DataFrame with the results\n",
    "neighborhood_scores = pd.DataFrame({\n",
    "    'Neighborhood': composite_metric.index,\n",
    "    'Composite Metric': composite_metric.values\n",
    "})\n",
    "\n",
    "# Sorted neighborhoods based on our metric\n",
    "neighborhood_scores = neighborhood_scores.sort_values(by='Composite Metric')\n",
    "\n",
    "# made the graph look nice \n",
    "top_neighborhoods.plot(kind='bar', x='Neighborhood', y='Composite Metric', legend=False)\n",
    "plt.xlabel('Neighborhood')\n",
    "plt.ylabel('Bestness')\n",
    "plt.title('Top 20 Neighborhoods Based on bestness Metric')\n",
    "plt.show()"
   ]
  },
  {
   "cell_type": "code",
   "execution_count": null,
   "metadata": {},
   "outputs": [],
   "source": []
  },
  {
   "cell_type": "code",
   "execution_count": null,
   "metadata": {},
   "outputs": [],
   "source": []
  }
 ],
 "metadata": {
  "kernelspec": {
   "display_name": "Python 3",
   "language": "python",
   "name": "python3"
  },
  "language_info": {
   "codemirror_mode": {
    "name": "ipython",
    "version": 3
   },
   "file_extension": ".py",
   "mimetype": "text/x-python",
   "name": "python",
   "nbconvert_exporter": "python",
   "pygments_lexer": "ipython3",
   "version": "3.8.3"
  }
 },
 "nbformat": 4,
 "nbformat_minor": 4
}
